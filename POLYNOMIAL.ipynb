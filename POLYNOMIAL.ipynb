{
  "nbformat": 4,
  "nbformat_minor": 0,
  "metadata": {
    "colab": {
      "name": "POLYNOMIAL.ipynb",
      "provenance": [],
      "collapsed_sections": []
    },
    "kernelspec": {
      "name": "python3",
      "display_name": "Python 3"
    },
    "language_info": {
      "name": "python"
    },
    "accelerator": "TPU"
  },
  "cells": [
    {
      "cell_type": "code",
      "execution_count": 2,
      "metadata": {
        "colab": {
          "base_uri": "https://localhost:8080/"
        },
        "id": "J5rho4XG8VPo",
        "outputId": "d74711de-16bd-4e72-82da-31e5fe210ed4"
      },
      "outputs": [
        {
          "output_type": "stream",
          "name": "stdout",
          "text": [
            "Drive already mounted at /content/drive; to attempt to forcibly remount, call drive.mount(\"/content/drive\", force_remount=True).\n"
          ]
        }
      ],
      "source": [
        "from google.colab import drive\n",
        "drive.mount('/content/drive')\n",
        "\n"
      ]
    },
    {
      "cell_type": "code",
      "source": [
        "##Importing modules\n",
        "import pandas as pd\n",
        "import os\n",
        "import json\n",
        "\n"
      ],
      "metadata": {
        "id": "Dpvvw0Ny9BuO"
      },
      "execution_count": 3,
      "outputs": []
    },
    {
      "cell_type": "code",
      "source": [
        "##Reading data \n",
        "fn = \"/content/drive/MyDrive/Polynomial.ai/Cell_Phones_and_Accessories.json.gz\"\n",
        "print(os.path.isfile(fn))\n",
        "df=pd.read_json(fn, lines=True, compression=\"gzip\", nrows=500000)\n",
        "\n",
        "df.head()"
      ],
      "metadata": {
        "colab": {
          "base_uri": "https://localhost:8080/",
          "height": 302
        },
        "id": "oLuejbyPc56T",
        "outputId": "5d838b2a-2afa-4dc6-c7fb-03dd49106c07"
      },
      "execution_count": 5,
      "outputs": [
        {
          "output_type": "stream",
          "name": "stdout",
          "text": [
            "True\n"
          ]
        },
        {
          "output_type": "execute_result",
          "data": {
            "text/html": [
              "\n",
              "  <div id=\"df-0bab0461-9834-4b8f-82a9-d56863e9376b\">\n",
              "    <div class=\"colab-df-container\">\n",
              "      <div>\n",
              "<style scoped>\n",
              "    .dataframe tbody tr th:only-of-type {\n",
              "        vertical-align: middle;\n",
              "    }\n",
              "\n",
              "    .dataframe tbody tr th {\n",
              "        vertical-align: top;\n",
              "    }\n",
              "\n",
              "    .dataframe thead th {\n",
              "        text-align: right;\n",
              "    }\n",
              "</style>\n",
              "<table border=\"1\" class=\"dataframe\">\n",
              "  <thead>\n",
              "    <tr style=\"text-align: right;\">\n",
              "      <th></th>\n",
              "      <th>overall</th>\n",
              "      <th>verified</th>\n",
              "      <th>reviewTime</th>\n",
              "      <th>reviewerID</th>\n",
              "      <th>asin</th>\n",
              "      <th>reviewerName</th>\n",
              "      <th>reviewText</th>\n",
              "      <th>summary</th>\n",
              "      <th>unixReviewTime</th>\n",
              "      <th>vote</th>\n",
              "      <th>image</th>\n",
              "      <th>style</th>\n",
              "    </tr>\n",
              "  </thead>\n",
              "  <tbody>\n",
              "    <tr>\n",
              "      <th>0</th>\n",
              "      <td>5</td>\n",
              "      <td>False</td>\n",
              "      <td>11 19, 2014</td>\n",
              "      <td>A1GG51FWU0XQYH</td>\n",
              "      <td>098949232X</td>\n",
              "      <td>Paul Williams</td>\n",
              "      <td>If your into space this is the Calendar for you.</td>\n",
              "      <td>Five Stars</td>\n",
              "      <td>1416355200</td>\n",
              "      <td>NaN</td>\n",
              "      <td>NaN</td>\n",
              "      <td>NaN</td>\n",
              "    </tr>\n",
              "    <tr>\n",
              "      <th>1</th>\n",
              "      <td>5</td>\n",
              "      <td>False</td>\n",
              "      <td>11 19, 2014</td>\n",
              "      <td>AVFIDS9RK38E0</td>\n",
              "      <td>098949232X</td>\n",
              "      <td>Sean Powell</td>\n",
              "      <td>Awesome pictures!</td>\n",
              "      <td>Five Stars</td>\n",
              "      <td>1416355200</td>\n",
              "      <td>NaN</td>\n",
              "      <td>NaN</td>\n",
              "      <td>NaN</td>\n",
              "    </tr>\n",
              "    <tr>\n",
              "      <th>2</th>\n",
              "      <td>5</td>\n",
              "      <td>False</td>\n",
              "      <td>11 19, 2014</td>\n",
              "      <td>A2S4AVR5SJ7KMI</td>\n",
              "      <td>098949232X</td>\n",
              "      <td>Tom Davis</td>\n",
              "      <td>Great wall art and information for space explo...</td>\n",
              "      <td>Five Stars</td>\n",
              "      <td>1416355200</td>\n",
              "      <td>NaN</td>\n",
              "      <td>NaN</td>\n",
              "      <td>NaN</td>\n",
              "    </tr>\n",
              "    <tr>\n",
              "      <th>3</th>\n",
              "      <td>5</td>\n",
              "      <td>False</td>\n",
              "      <td>11 19, 2014</td>\n",
              "      <td>AEMMMVOR9BFLI</td>\n",
              "      <td>098949232X</td>\n",
              "      <td>Kwajmeck</td>\n",
              "      <td>As always, it is a quality calendar full of ve...</td>\n",
              "      <td>I love it. I buy a new one every year</td>\n",
              "      <td>1416355200</td>\n",
              "      <td>NaN</td>\n",
              "      <td>NaN</td>\n",
              "      <td>NaN</td>\n",
              "    </tr>\n",
              "    <tr>\n",
              "      <th>4</th>\n",
              "      <td>5</td>\n",
              "      <td>False</td>\n",
              "      <td>11 19, 2014</td>\n",
              "      <td>A2DZXMBTY7KLYP</td>\n",
              "      <td>098949232X</td>\n",
              "      <td>ScottG43</td>\n",
              "      <td>This is a fantastic calendar. This is my third...</td>\n",
              "      <td>Great Calendar.</td>\n",
              "      <td>1416355200</td>\n",
              "      <td>NaN</td>\n",
              "      <td>NaN</td>\n",
              "      <td>NaN</td>\n",
              "    </tr>\n",
              "  </tbody>\n",
              "</table>\n",
              "</div>\n",
              "      <button class=\"colab-df-convert\" onclick=\"convertToInteractive('df-0bab0461-9834-4b8f-82a9-d56863e9376b')\"\n",
              "              title=\"Convert this dataframe to an interactive table.\"\n",
              "              style=\"display:none;\">\n",
              "        \n",
              "  <svg xmlns=\"http://www.w3.org/2000/svg\" height=\"24px\"viewBox=\"0 0 24 24\"\n",
              "       width=\"24px\">\n",
              "    <path d=\"M0 0h24v24H0V0z\" fill=\"none\"/>\n",
              "    <path d=\"M18.56 5.44l.94 2.06.94-2.06 2.06-.94-2.06-.94-.94-2.06-.94 2.06-2.06.94zm-11 1L8.5 8.5l.94-2.06 2.06-.94-2.06-.94L8.5 2.5l-.94 2.06-2.06.94zm10 10l.94 2.06.94-2.06 2.06-.94-2.06-.94-.94-2.06-.94 2.06-2.06.94z\"/><path d=\"M17.41 7.96l-1.37-1.37c-.4-.4-.92-.59-1.43-.59-.52 0-1.04.2-1.43.59L10.3 9.45l-7.72 7.72c-.78.78-.78 2.05 0 2.83L4 21.41c.39.39.9.59 1.41.59.51 0 1.02-.2 1.41-.59l7.78-7.78 2.81-2.81c.8-.78.8-2.07 0-2.86zM5.41 20L4 18.59l7.72-7.72 1.47 1.35L5.41 20z\"/>\n",
              "  </svg>\n",
              "      </button>\n",
              "      \n",
              "  <style>\n",
              "    .colab-df-container {\n",
              "      display:flex;\n",
              "      flex-wrap:wrap;\n",
              "      gap: 12px;\n",
              "    }\n",
              "\n",
              "    .colab-df-convert {\n",
              "      background-color: #E8F0FE;\n",
              "      border: none;\n",
              "      border-radius: 50%;\n",
              "      cursor: pointer;\n",
              "      display: none;\n",
              "      fill: #1967D2;\n",
              "      height: 32px;\n",
              "      padding: 0 0 0 0;\n",
              "      width: 32px;\n",
              "    }\n",
              "\n",
              "    .colab-df-convert:hover {\n",
              "      background-color: #E2EBFA;\n",
              "      box-shadow: 0px 1px 2px rgba(60, 64, 67, 0.3), 0px 1px 3px 1px rgba(60, 64, 67, 0.15);\n",
              "      fill: #174EA6;\n",
              "    }\n",
              "\n",
              "    [theme=dark] .colab-df-convert {\n",
              "      background-color: #3B4455;\n",
              "      fill: #D2E3FC;\n",
              "    }\n",
              "\n",
              "    [theme=dark] .colab-df-convert:hover {\n",
              "      background-color: #434B5C;\n",
              "      box-shadow: 0px 1px 3px 1px rgba(0, 0, 0, 0.15);\n",
              "      filter: drop-shadow(0px 1px 2px rgba(0, 0, 0, 0.3));\n",
              "      fill: #FFFFFF;\n",
              "    }\n",
              "  </style>\n",
              "\n",
              "      <script>\n",
              "        const buttonEl =\n",
              "          document.querySelector('#df-0bab0461-9834-4b8f-82a9-d56863e9376b button.colab-df-convert');\n",
              "        buttonEl.style.display =\n",
              "          google.colab.kernel.accessAllowed ? 'block' : 'none';\n",
              "\n",
              "        async function convertToInteractive(key) {\n",
              "          const element = document.querySelector('#df-0bab0461-9834-4b8f-82a9-d56863e9376b');\n",
              "          const dataTable =\n",
              "            await google.colab.kernel.invokeFunction('convertToInteractive',\n",
              "                                                     [key], {});\n",
              "          if (!dataTable) return;\n",
              "\n",
              "          const docLinkHtml = 'Like what you see? Visit the ' +\n",
              "            '<a target=\"_blank\" href=https://colab.research.google.com/notebooks/data_table.ipynb>data table notebook</a>'\n",
              "            + ' to learn more about interactive tables.';\n",
              "          element.innerHTML = '';\n",
              "          dataTable['output_type'] = 'display_data';\n",
              "          await google.colab.output.renderOutput(dataTable, element);\n",
              "          const docLink = document.createElement('div');\n",
              "          docLink.innerHTML = docLinkHtml;\n",
              "          element.appendChild(docLink);\n",
              "        }\n",
              "      </script>\n",
              "    </div>\n",
              "  </div>\n",
              "  "
            ],
            "text/plain": [
              "   overall  verified   reviewTime  ... vote image style\n",
              "0        5     False  11 19, 2014  ...  NaN   NaN   NaN\n",
              "1        5     False  11 19, 2014  ...  NaN   NaN   NaN\n",
              "2        5     False  11 19, 2014  ...  NaN   NaN   NaN\n",
              "3        5     False  11 19, 2014  ...  NaN   NaN   NaN\n",
              "4        5     False  11 19, 2014  ...  NaN   NaN   NaN\n",
              "\n",
              "[5 rows x 12 columns]"
            ]
          },
          "metadata": {},
          "execution_count": 5
        }
      ]
    },
    {
      "cell_type": "markdown",
      "source": [
        ""
      ],
      "metadata": {
        "id": "hXELGy8Gi_R2"
      }
    },
    {
      "cell_type": "code",
      "source": [
        "df.isna().any()"
      ],
      "metadata": {
        "colab": {
          "base_uri": "https://localhost:8080/"
        },
        "id": "NET3lwxMim58",
        "outputId": "13090d08-afa8-476e-eb9a-4a09d76d0daf"
      },
      "execution_count": 6,
      "outputs": [
        {
          "output_type": "execute_result",
          "data": {
            "text/plain": [
              "overall           False\n",
              "verified          False\n",
              "reviewTime        False\n",
              "reviewerID        False\n",
              "asin              False\n",
              "reviewerName       True\n",
              "reviewText         True\n",
              "summary            True\n",
              "unixReviewTime    False\n",
              "vote               True\n",
              "image              True\n",
              "style              True\n",
              "dtype: bool"
            ]
          },
          "metadata": {},
          "execution_count": 6
        }
      ]
    },
    {
      "cell_type": "code",
      "source": [
        "len(df)"
      ],
      "metadata": {
        "colab": {
          "base_uri": "https://localhost:8080/"
        },
        "id": "L25Y5Vrr0GLZ",
        "outputId": "d5d8ecc4-5b8b-4391-bf02-0c41c22118d4"
      },
      "execution_count": 7,
      "outputs": [
        {
          "output_type": "execute_result",
          "data": {
            "text/plain": [
              "500000"
            ]
          },
          "metadata": {},
          "execution_count": 7
        }
      ]
    },
    {
      "cell_type": "code",
      "source": [
        "df.describe()"
      ],
      "metadata": {
        "colab": {
          "base_uri": "https://localhost:8080/",
          "height": 300
        },
        "id": "iYLMOuWH1wPX",
        "outputId": "6860a820-71c1-4433-e034-6b835a71aacf"
      },
      "execution_count": 8,
      "outputs": [
        {
          "output_type": "execute_result",
          "data": {
            "text/html": [
              "\n",
              "  <div id=\"df-9e811286-a650-432c-b30e-9f9ebacc4a5f\">\n",
              "    <div class=\"colab-df-container\">\n",
              "      <div>\n",
              "<style scoped>\n",
              "    .dataframe tbody tr th:only-of-type {\n",
              "        vertical-align: middle;\n",
              "    }\n",
              "\n",
              "    .dataframe tbody tr th {\n",
              "        vertical-align: top;\n",
              "    }\n",
              "\n",
              "    .dataframe thead th {\n",
              "        text-align: right;\n",
              "    }\n",
              "</style>\n",
              "<table border=\"1\" class=\"dataframe\">\n",
              "  <thead>\n",
              "    <tr style=\"text-align: right;\">\n",
              "      <th></th>\n",
              "      <th>overall</th>\n",
              "      <th>unixReviewTime</th>\n",
              "    </tr>\n",
              "  </thead>\n",
              "  <tbody>\n",
              "    <tr>\n",
              "      <th>count</th>\n",
              "      <td>500000.000000</td>\n",
              "      <td>5.000000e+05</td>\n",
              "    </tr>\n",
              "    <tr>\n",
              "      <th>mean</th>\n",
              "      <td>3.753160</td>\n",
              "      <td>1.350605e+09</td>\n",
              "    </tr>\n",
              "    <tr>\n",
              "      <th>std</th>\n",
              "      <td>1.503032</td>\n",
              "      <td>7.365208e+07</td>\n",
              "    </tr>\n",
              "    <tr>\n",
              "      <th>min</th>\n",
              "      <td>1.000000</td>\n",
              "      <td>9.413280e+08</td>\n",
              "    </tr>\n",
              "    <tr>\n",
              "      <th>25%</th>\n",
              "      <td>3.000000</td>\n",
              "      <td>1.310861e+09</td>\n",
              "    </tr>\n",
              "    <tr>\n",
              "      <th>50%</th>\n",
              "      <td>4.000000</td>\n",
              "      <td>1.357171e+09</td>\n",
              "    </tr>\n",
              "    <tr>\n",
              "      <th>75%</th>\n",
              "      <td>5.000000</td>\n",
              "      <td>1.401149e+09</td>\n",
              "    </tr>\n",
              "    <tr>\n",
              "      <th>max</th>\n",
              "      <td>5.000000</td>\n",
              "      <td>1.528848e+09</td>\n",
              "    </tr>\n",
              "  </tbody>\n",
              "</table>\n",
              "</div>\n",
              "      <button class=\"colab-df-convert\" onclick=\"convertToInteractive('df-9e811286-a650-432c-b30e-9f9ebacc4a5f')\"\n",
              "              title=\"Convert this dataframe to an interactive table.\"\n",
              "              style=\"display:none;\">\n",
              "        \n",
              "  <svg xmlns=\"http://www.w3.org/2000/svg\" height=\"24px\"viewBox=\"0 0 24 24\"\n",
              "       width=\"24px\">\n",
              "    <path d=\"M0 0h24v24H0V0z\" fill=\"none\"/>\n",
              "    <path d=\"M18.56 5.44l.94 2.06.94-2.06 2.06-.94-2.06-.94-.94-2.06-.94 2.06-2.06.94zm-11 1L8.5 8.5l.94-2.06 2.06-.94-2.06-.94L8.5 2.5l-.94 2.06-2.06.94zm10 10l.94 2.06.94-2.06 2.06-.94-2.06-.94-.94-2.06-.94 2.06-2.06.94z\"/><path d=\"M17.41 7.96l-1.37-1.37c-.4-.4-.92-.59-1.43-.59-.52 0-1.04.2-1.43.59L10.3 9.45l-7.72 7.72c-.78.78-.78 2.05 0 2.83L4 21.41c.39.39.9.59 1.41.59.51 0 1.02-.2 1.41-.59l7.78-7.78 2.81-2.81c.8-.78.8-2.07 0-2.86zM5.41 20L4 18.59l7.72-7.72 1.47 1.35L5.41 20z\"/>\n",
              "  </svg>\n",
              "      </button>\n",
              "      \n",
              "  <style>\n",
              "    .colab-df-container {\n",
              "      display:flex;\n",
              "      flex-wrap:wrap;\n",
              "      gap: 12px;\n",
              "    }\n",
              "\n",
              "    .colab-df-convert {\n",
              "      background-color: #E8F0FE;\n",
              "      border: none;\n",
              "      border-radius: 50%;\n",
              "      cursor: pointer;\n",
              "      display: none;\n",
              "      fill: #1967D2;\n",
              "      height: 32px;\n",
              "      padding: 0 0 0 0;\n",
              "      width: 32px;\n",
              "    }\n",
              "\n",
              "    .colab-df-convert:hover {\n",
              "      background-color: #E2EBFA;\n",
              "      box-shadow: 0px 1px 2px rgba(60, 64, 67, 0.3), 0px 1px 3px 1px rgba(60, 64, 67, 0.15);\n",
              "      fill: #174EA6;\n",
              "    }\n",
              "\n",
              "    [theme=dark] .colab-df-convert {\n",
              "      background-color: #3B4455;\n",
              "      fill: #D2E3FC;\n",
              "    }\n",
              "\n",
              "    [theme=dark] .colab-df-convert:hover {\n",
              "      background-color: #434B5C;\n",
              "      box-shadow: 0px 1px 3px 1px rgba(0, 0, 0, 0.15);\n",
              "      filter: drop-shadow(0px 1px 2px rgba(0, 0, 0, 0.3));\n",
              "      fill: #FFFFFF;\n",
              "    }\n",
              "  </style>\n",
              "\n",
              "      <script>\n",
              "        const buttonEl =\n",
              "          document.querySelector('#df-9e811286-a650-432c-b30e-9f9ebacc4a5f button.colab-df-convert');\n",
              "        buttonEl.style.display =\n",
              "          google.colab.kernel.accessAllowed ? 'block' : 'none';\n",
              "\n",
              "        async function convertToInteractive(key) {\n",
              "          const element = document.querySelector('#df-9e811286-a650-432c-b30e-9f9ebacc4a5f');\n",
              "          const dataTable =\n",
              "            await google.colab.kernel.invokeFunction('convertToInteractive',\n",
              "                                                     [key], {});\n",
              "          if (!dataTable) return;\n",
              "\n",
              "          const docLinkHtml = 'Like what you see? Visit the ' +\n",
              "            '<a target=\"_blank\" href=https://colab.research.google.com/notebooks/data_table.ipynb>data table notebook</a>'\n",
              "            + ' to learn more about interactive tables.';\n",
              "          element.innerHTML = '';\n",
              "          dataTable['output_type'] = 'display_data';\n",
              "          await google.colab.output.renderOutput(dataTable, element);\n",
              "          const docLink = document.createElement('div');\n",
              "          docLink.innerHTML = docLinkHtml;\n",
              "          element.appendChild(docLink);\n",
              "        }\n",
              "      </script>\n",
              "    </div>\n",
              "  </div>\n",
              "  "
            ],
            "text/plain": [
              "             overall  unixReviewTime\n",
              "count  500000.000000    5.000000e+05\n",
              "mean        3.753160    1.350605e+09\n",
              "std         1.503032    7.365208e+07\n",
              "min         1.000000    9.413280e+08\n",
              "25%         3.000000    1.310861e+09\n",
              "50%         4.000000    1.357171e+09\n",
              "75%         5.000000    1.401149e+09\n",
              "max         5.000000    1.528848e+09"
            ]
          },
          "metadata": {},
          "execution_count": 8
        }
      ]
    },
    {
      "cell_type": "code",
      "source": [
        "df.columns"
      ],
      "metadata": {
        "colab": {
          "base_uri": "https://localhost:8080/"
        },
        "id": "cet4RCT71z2N",
        "outputId": "bf1e5c68-35e9-47af-dd2c-3981bf9b99b2"
      },
      "execution_count": 9,
      "outputs": [
        {
          "output_type": "execute_result",
          "data": {
            "text/plain": [
              "Index(['overall', 'verified', 'reviewTime', 'reviewerID', 'asin',\n",
              "       'reviewerName', 'reviewText', 'summary', 'unixReviewTime', 'vote',\n",
              "       'image', 'style'],\n",
              "      dtype='object')"
            ]
          },
          "metadata": {},
          "execution_count": 9
        }
      ]
    },
    {
      "cell_type": "code",
      "source": [
        "df.shape"
      ],
      "metadata": {
        "colab": {
          "base_uri": "https://localhost:8080/"
        },
        "id": "j9tOwvfb2apj",
        "outputId": "275450c3-b7ea-4428-ee71-bff2f54363e4"
      },
      "execution_count": 10,
      "outputs": [
        {
          "output_type": "execute_result",
          "data": {
            "text/plain": [
              "(500000, 12)"
            ]
          },
          "metadata": {},
          "execution_count": 10
        }
      ]
    },
    {
      "cell_type": "code",
      "source": [
        "df.isna().sum()"
      ],
      "metadata": {
        "colab": {
          "base_uri": "https://localhost:8080/"
        },
        "id": "XQgW_7eG2cbb",
        "outputId": "32798da8-fd8a-4171-e439-b19ad1b1342e"
      },
      "execution_count": 11,
      "outputs": [
        {
          "output_type": "execute_result",
          "data": {
            "text/plain": [
              "overall                0\n",
              "verified               0\n",
              "reviewTime             0\n",
              "reviewerID             0\n",
              "asin                   0\n",
              "reviewerName          28\n",
              "reviewText            99\n",
              "summary               65\n",
              "unixReviewTime         0\n",
              "vote              432982\n",
              "image             497966\n",
              "style             355156\n",
              "dtype: int64"
            ]
          },
          "metadata": {},
          "execution_count": 11
        }
      ]
    },
    {
      "cell_type": "code",
      "source": [
        "rating = df[\"overall\"]\n",
        "rating.unique()"
      ],
      "metadata": {
        "colab": {
          "base_uri": "https://localhost:8080/"
        },
        "id": "Gwadz0np3K5k",
        "outputId": "da69f345-6a64-457d-92b4-aaae8be61af8"
      },
      "execution_count": 12,
      "outputs": [
        {
          "output_type": "execute_result",
          "data": {
            "text/plain": [
              "array([5, 3, 2, 4, 1])"
            ]
          },
          "metadata": {},
          "execution_count": 12
        }
      ]
    },
    {
      "cell_type": "code",
      "source": [
        "##Ratinf Distribution\n",
        "import seaborn as sns\n",
        "import matplotlib.pyplot as plt\n",
        "%matplotlib inline\n",
        "\n",
        "plt.figure(figsize=(10,10))\n",
        "plt.title(\"Rating Distribution\")\n",
        "\n",
        "sns.distplot(rating,color=\"blue\")"
      ],
      "metadata": {
        "colab": {
          "base_uri": "https://localhost:8080/",
          "height": 693
        },
        "id": "R-OthlwB4D3O",
        "outputId": "fffc4df6-831a-431e-c04d-f3e31c43291c"
      },
      "execution_count": 13,
      "outputs": [
        {
          "output_type": "stream",
          "name": "stderr",
          "text": [
            "/usr/local/lib/python3.7/dist-packages/seaborn/distributions.py:2619: FutureWarning: `distplot` is a deprecated function and will be removed in a future version. Please adapt your code to use either `displot` (a figure-level function with similar flexibility) or `histplot` (an axes-level function for histograms).\n",
            "  warnings.warn(msg, FutureWarning)\n"
          ]
        },
        {
          "output_type": "execute_result",
          "data": {
            "text/plain": [
              "<matplotlib.axes._subplots.AxesSubplot at 0x7fb53e0cb790>"
            ]
          },
          "metadata": {},
          "execution_count": 13
        },
        {
          "output_type": "display_data",
          "data": {
            "image/png": "[encoded data removed]",
            "text/plain": [
              "<Figure size 720x720 with 1 Axes>"
            ]
          },
          "metadata": {
            "needs_background": "light"
          }
        }
      ]
    },
    {
      "cell_type": "code",
      "source": [
        "type(rating)"
      ],
      "metadata": {
        "colab": {
          "base_uri": "https://localhost:8080/"
        },
        "id": "-2UsxBxo4Udy",
        "outputId": "aa008c25-cf1a-4373-98d2-13ca563c844d"
      },
      "execution_count": 14,
      "outputs": [
        {
          "output_type": "execute_result",
          "data": {
            "text/plain": [
              "pandas.core.series.Series"
            ]
          },
          "metadata": {},
          "execution_count": 14
        }
      ]
    },
    {
      "cell_type": "code",
      "source": [
        "df.drop(['verified', 'reviewTime','reviewerID','asin','reviewerName','unixReviewTime','vote','image', 'style'], axis=1)"
      ],
      "metadata": {
        "colab": {
          "base_uri": "https://localhost:8080/",
          "height": 423
        },
        "id": "4Czf24444nLT",
        "outputId": "2d2bd176-8dcc-413c-9f4b-718e748ff420"
      },
      "execution_count": 15,
      "outputs": [
        {
          "output_type": "execute_result",
          "data": {
            "text/html": [
              "\n",
              "  <div id=\"df-ea2d80b8-b2b1-41bf-8f62-522e65b27da0\">\n",
              "    <div class=\"colab-df-container\">\n",
              "      <div>\n",
              "<style scoped>\n",
              "    .dataframe tbody tr th:only-of-type {\n",
              "        vertical-align: middle;\n",
              "    }\n",
              "\n",
              "    .dataframe tbody tr th {\n",
              "        vertical-align: top;\n",
              "    }\n",
              "\n",
              "    .dataframe thead th {\n",
              "        text-align: right;\n",
              "    }\n",
              "</style>\n",
              "<table border=\"1\" class=\"dataframe\">\n",
              "  <thead>\n",
              "    <tr style=\"text-align: right;\">\n",
              "      <th></th>\n",
              "      <th>overall</th>\n",
              "      <th>reviewText</th>\n",
              "      <th>summary</th>\n",
              "    </tr>\n",
              "  </thead>\n",
              "  <tbody>\n",
              "    <tr>\n",
              "      <th>0</th>\n",
              "      <td>5</td>\n",
              "      <td>If your into space this is the Calendar for you.</td>\n",
              "      <td>Five Stars</td>\n",
              "    </tr>\n",
              "    <tr>\n",
              "      <th>1</th>\n",
              "      <td>5</td>\n",
              "      <td>Awesome pictures!</td>\n",
              "      <td>Five Stars</td>\n",
              "    </tr>\n",
              "    <tr>\n",
              "      <th>2</th>\n",
              "      <td>5</td>\n",
              "      <td>Great wall art and information for space explo...</td>\n",
              "      <td>Five Stars</td>\n",
              "    </tr>\n",
              "    <tr>\n",
              "      <th>3</th>\n",
              "      <td>5</td>\n",
              "      <td>As always, it is a quality calendar full of ve...</td>\n",
              "      <td>I love it. I buy a new one every year</td>\n",
              "    </tr>\n",
              "    <tr>\n",
              "      <th>4</th>\n",
              "      <td>5</td>\n",
              "      <td>This is a fantastic calendar. This is my third...</td>\n",
              "      <td>Great Calendar.</td>\n",
              "    </tr>\n",
              "    <tr>\n",
              "      <th>...</th>\n",
              "      <td>...</td>\n",
              "      <td>...</td>\n",
              "      <td>...</td>\n",
              "    </tr>\n",
              "    <tr>\n",
              "      <th>499995</th>\n",
              "      <td>2</td>\n",
              "      <td>I got this in the mail the other day.  Its sup...</td>\n",
              "      <td>Cute but cheap</td>\n",
              "    </tr>\n",
              "    <tr>\n",
              "      <th>499996</th>\n",
              "      <td>5</td>\n",
              "      <td>It's adorable.  Not he best quality but for $4...</td>\n",
              "      <td>Black Rilakkuma Cat Cover for iPhone 4</td>\n",
              "    </tr>\n",
              "    <tr>\n",
              "      <th>499997</th>\n",
              "      <td>5</td>\n",
              "      <td>I got it for my besties! :D Even though the ba...</td>\n",
              "      <td>Love it!</td>\n",
              "    </tr>\n",
              "    <tr>\n",
              "      <th>499998</th>\n",
              "      <td>5</td>\n",
              "      <td>I love this iPhone case soooo much, super cute...</td>\n",
              "      <td>Love love love</td>\n",
              "    </tr>\n",
              "    <tr>\n",
              "      <th>499999</th>\n",
              "      <td>2</td>\n",
              "      <td>That is a fake ,and have so much mark in the c...</td>\n",
              "      <td>I don't like it.</td>\n",
              "    </tr>\n",
              "  </tbody>\n",
              "</table>\n",
              "<p>500000 rows × 3 columns</p>\n",
              "</div>\n",
              "      <button class=\"colab-df-convert\" onclick=\"convertToInteractive('df-ea2d80b8-b2b1-41bf-8f62-522e65b27da0')\"\n",
              "              title=\"Convert this dataframe to an interactive table.\"\n",
              "              style=\"display:none;\">\n",
              "        \n",
              "  <svg xmlns=\"http://www.w3.org/2000/svg\" height=\"24px\"viewBox=\"0 0 24 24\"\n",
              "       width=\"24px\">\n",
              "    <path d=\"M0 0h24v24H0V0z\" fill=\"none\"/>\n",
              "    <path d=\"M18.56 5.44l.94 2.06.94-2.06 2.06-.94-2.06-.94-.94-2.06-.94 2.06-2.06.94zm-11 1L8.5 8.5l.94-2.06 2.06-.94-2.06-.94L8.5 2.5l-.94 2.06-2.06.94zm10 10l.94 2.06.94-2.06 2.06-.94-2.06-.94-.94-2.06-.94 2.06-2.06.94z\"/><path d=\"M17.41 7.96l-1.37-1.37c-.4-.4-.92-.59-1.43-.59-.52 0-1.04.2-1.43.59L10.3 9.45l-7.72 7.72c-.78.78-.78 2.05 0 2.83L4 21.41c.39.39.9.59 1.41.59.51 0 1.02-.2 1.41-.59l7.78-7.78 2.81-2.81c.8-.78.8-2.07 0-2.86zM5.41 20L4 18.59l7.72-7.72 1.47 1.35L5.41 20z\"/>\n",
              "  </svg>\n",
              "      </button>\n",
              "      \n",
              "  <style>\n",
              "    .colab-df-container {\n",
              "      display:flex;\n",
              "      flex-wrap:wrap;\n",
              "      gap: 12px;\n",
              "    }\n",
              "\n",
              "    .colab-df-convert {\n",
              "      background-color: #E8F0FE;\n",
              "      border: none;\n",
              "      border-radius: 50%;\n",
              "      cursor: pointer;\n",
              "      display: none;\n",
              "      fill: #1967D2;\n",
              "      height: 32px;\n",
              "      padding: 0 0 0 0;\n",
              "      width: 32px;\n",
              "    }\n",
              "\n",
              "    .colab-df-convert:hover {\n",
              "      background-color: #E2EBFA;\n",
              "      box-shadow: 0px 1px 2px rgba(60, 64, 67, 0.3), 0px 1px 3px 1px rgba(60, 64, 67, 0.15);\n",
              "      fill: #174EA6;\n",
              "    }\n",
              "\n",
              "    [theme=dark] .colab-df-convert {\n",
              "      background-color: #3B4455;\n",
              "      fill: #D2E3FC;\n",
              "    }\n",
              "\n",
              "    [theme=dark] .colab-df-convert:hover {\n",
              "      background-color: #434B5C;\n",
              "      box-shadow: 0px 1px 3px 1px rgba(0, 0, 0, 0.15);\n",
              "      filter: drop-shadow(0px 1px 2px rgba(0, 0, 0, 0.3));\n",
              "      fill: #FFFFFF;\n",
              "    }\n",
              "  </style>\n",
              "\n",
              "      <script>\n",
              "        const buttonEl =\n",
              "          document.querySelector('#df-ea2d80b8-b2b1-41bf-8f62-522e65b27da0 button.colab-df-convert');\n",
              "        buttonEl.style.display =\n",
              "          google.colab.kernel.accessAllowed ? 'block' : 'none';\n",
              "\n",
              "        async function convertToInteractive(key) {\n",
              "          const element = document.querySelector('#df-ea2d80b8-b2b1-41bf-8f62-522e65b27da0');\n",
              "          const dataTable =\n",
              "            await google.colab.kernel.invokeFunction('convertToInteractive',\n",
              "                                                     [key], {});\n",
              "          if (!dataTable) return;\n",
              "\n",
              "          const docLinkHtml = 'Like what you see? Visit the ' +\n",
              "            '<a target=\"_blank\" href=https://colab.research.google.com/notebooks/data_table.ipynb>data table notebook</a>'\n",
              "            + ' to learn more about interactive tables.';\n",
              "          element.innerHTML = '';\n",
              "          dataTable['output_type'] = 'display_data';\n",
              "          await google.colab.output.renderOutput(dataTable, element);\n",
              "          const docLink = document.createElement('div');\n",
              "          docLink.innerHTML = docLinkHtml;\n",
              "          element.appendChild(docLink);\n",
              "        }\n",
              "      </script>\n",
              "    </div>\n",
              "  </div>\n",
              "  "
            ],
            "text/plain": [
              "        overall  ...                                 summary\n",
              "0             5  ...                              Five Stars\n",
              "1             5  ...                              Five Stars\n",
              "2             5  ...                              Five Stars\n",
              "3             5  ...   I love it. I buy a new one every year\n",
              "4             5  ...                         Great Calendar.\n",
              "...         ...  ...                                     ...\n",
              "499995        2  ...                          Cute but cheap\n",
              "499996        5  ...  Black Rilakkuma Cat Cover for iPhone 4\n",
              "499997        5  ...                                Love it!\n",
              "499998        5  ...                          Love love love\n",
              "499999        2  ...                        I don't like it.\n",
              "\n",
              "[500000 rows x 3 columns]"
            ]
          },
          "metadata": {},
          "execution_count": 15
        }
      ]
    },
    {
      "cell_type": "code",
      "source": [
        "##Creating new dataframe for model training\n",
        "df_1 = pd.DataFrame(df,columns = ['overall','reviewText'])\n",
        "df_1.rename(columns = {'overall':'Rating','reviewText':'Review'},inplace = True)"
      ],
      "metadata": {
        "id": "l4jNyrCs5lTW"
      },
      "execution_count": 16,
      "outputs": []
    },
    {
      "cell_type": "code",
      "source": [
        "df_1.isna().sum()"
      ],
      "metadata": {
        "colab": {
          "base_uri": "https://localhost:8080/"
        },
        "id": "Mp9z7mZK73se",
        "outputId": "6f81c9bd-e042-4bae-d197-9cd5a40b1a03"
      },
      "execution_count": 17,
      "outputs": [
        {
          "output_type": "execute_result",
          "data": {
            "text/plain": [
              "Rating     0\n",
              "Review    99\n",
              "dtype: int64"
            ]
          },
          "metadata": {},
          "execution_count": 17
        }
      ]
    },
    {
      "cell_type": "code",
      "source": [
        "##Droping NaN values \n",
        "df_1=df_1.dropna()"
      ],
      "metadata": {
        "id": "gn2tJlRQF800"
      },
      "execution_count": 18,
      "outputs": []
    },
    {
      "cell_type": "code",
      "source": [
        "def apply_sentiment(Rating):\n",
        "    if(Rating <=2 ):\n",
        "        return 0\n",
        "    else:\n",
        "        return 1"
      ],
      "metadata": {
        "id": "BvQJq84u77oJ"
      },
      "execution_count": 19,
      "outputs": []
    },
    {
      "cell_type": "code",
      "source": [
        "df_1['Sentiment'] = df_1['Rating'].apply(apply_sentiment)\n",
        "df_1.drop(['Rating'],axis = 1, inplace = True)\n"
      ],
      "metadata": {
        "id": "wBOZUDTi8EUA"
      },
      "execution_count": 20,
      "outputs": []
    },
    {
      "cell_type": "code",
      "source": [
        "df_1"
      ],
      "metadata": {
        "colab": {
          "base_uri": "https://localhost:8080/",
          "height": 423
        },
        "id": "nupOP5ww8NVB",
        "outputId": "28684c06-0735-4a21-daf5-59ec26b6efbe"
      },
      "execution_count": 21,
      "outputs": [
        {
          "output_type": "execute_result",
          "data": {
            "text/html": [
              "\n",
              "  <div id=\"df-0ec18179-36c6-4115-b501-8ebb5b3f653d\">\n",
              "    <div class=\"colab-df-container\">\n",
              "      <div>\n",
              "<style scoped>\n",
              "    .dataframe tbody tr th:only-of-type {\n",
              "        vertical-align: middle;\n",
              "    }\n",
              "\n",
              "    .dataframe tbody tr th {\n",
              "        vertical-align: top;\n",
              "    }\n",
              "\n",
              "    .dataframe thead th {\n",
              "        text-align: right;\n",
              "    }\n",
              "</style>\n",
              "<table border=\"1\" class=\"dataframe\">\n",
              "  <thead>\n",
              "    <tr style=\"text-align: right;\">\n",
              "      <th></th>\n",
              "      <th>Review</th>\n",
              "      <th>Sentiment</th>\n",
              "    </tr>\n",
              "  </thead>\n",
              "  <tbody>\n",
              "    <tr>\n",
              "      <th>0</th>\n",
              "      <td>If your into space this is the Calendar for you.</td>\n",
              "      <td>1</td>\n",
              "    </tr>\n",
              "    <tr>\n",
              "      <th>1</th>\n",
              "      <td>Awesome pictures!</td>\n",
              "      <td>1</td>\n",
              "    </tr>\n",
              "    <tr>\n",
              "      <th>2</th>\n",
              "      <td>Great wall art and information for space explo...</td>\n",
              "      <td>1</td>\n",
              "    </tr>\n",
              "    <tr>\n",
              "      <th>3</th>\n",
              "      <td>As always, it is a quality calendar full of ve...</td>\n",
              "      <td>1</td>\n",
              "    </tr>\n",
              "    <tr>\n",
              "      <th>4</th>\n",
              "      <td>This is a fantastic calendar. This is my third...</td>\n",
              "      <td>1</td>\n",
              "    </tr>\n",
              "    <tr>\n",
              "      <th>...</th>\n",
              "      <td>...</td>\n",
              "      <td>...</td>\n",
              "    </tr>\n",
              "    <tr>\n",
              "      <th>499995</th>\n",
              "      <td>I got this in the mail the other day.  Its sup...</td>\n",
              "      <td>0</td>\n",
              "    </tr>\n",
              "    <tr>\n",
              "      <th>499996</th>\n",
              "      <td>It's adorable.  Not he best quality but for $4...</td>\n",
              "      <td>1</td>\n",
              "    </tr>\n",
              "    <tr>\n",
              "      <th>499997</th>\n",
              "      <td>I got it for my besties! :D Even though the ba...</td>\n",
              "      <td>1</td>\n",
              "    </tr>\n",
              "    <tr>\n",
              "      <th>499998</th>\n",
              "      <td>I love this iPhone case soooo much, super cute...</td>\n",
              "      <td>1</td>\n",
              "    </tr>\n",
              "    <tr>\n",
              "      <th>499999</th>\n",
              "      <td>That is a fake ,and have so much mark in the c...</td>\n",
              "      <td>0</td>\n",
              "    </tr>\n",
              "  </tbody>\n",
              "</table>\n",
              "<p>499901 rows × 2 columns</p>\n",
              "</div>\n",
              "      <button class=\"colab-df-convert\" onclick=\"convertToInteractive('df-0ec18179-36c6-4115-b501-8ebb5b3f653d')\"\n",
              "              title=\"Convert this dataframe to an interactive table.\"\n",
              "              style=\"display:none;\">\n",
              "        \n",
              "  <svg xmlns=\"http://www.w3.org/2000/svg\" height=\"24px\"viewBox=\"0 0 24 24\"\n",
              "       width=\"24px\">\n",
              "    <path d=\"M0 0h24v24H0V0z\" fill=\"none\"/>\n",
              "    <path d=\"M18.56 5.44l.94 2.06.94-2.06 2.06-.94-2.06-.94-.94-2.06-.94 2.06-2.06.94zm-11 1L8.5 8.5l.94-2.06 2.06-.94-2.06-.94L8.5 2.5l-.94 2.06-2.06.94zm10 10l.94 2.06.94-2.06 2.06-.94-2.06-.94-.94-2.06-.94 2.06-2.06.94z\"/><path d=\"M17.41 7.96l-1.37-1.37c-.4-.4-.92-.59-1.43-.59-.52 0-1.04.2-1.43.59L10.3 9.45l-7.72 7.72c-.78.78-.78 2.05 0 2.83L4 21.41c.39.39.9.59 1.41.59.51 0 1.02-.2 1.41-.59l7.78-7.78 2.81-2.81c.8-.78.8-2.07 0-2.86zM5.41 20L4 18.59l7.72-7.72 1.47 1.35L5.41 20z\"/>\n",
              "  </svg>\n",
              "      </button>\n",
              "      \n",
              "  <style>\n",
              "    .colab-df-container {\n",
              "      display:flex;\n",
              "      flex-wrap:wrap;\n",
              "      gap: 12px;\n",
              "    }\n",
              "\n",
              "    .colab-df-convert {\n",
              "      background-color: #E8F0FE;\n",
              "      border: none;\n",
              "      border-radius: 50%;\n",
              "      cursor: pointer;\n",
              "      display: none;\n",
              "      fill: #1967D2;\n",
              "      height: 32px;\n",
              "      padding: 0 0 0 0;\n",
              "      width: 32px;\n",
              "    }\n",
              "\n",
              "    .colab-df-convert:hover {\n",
              "      background-color: #E2EBFA;\n",
              "      box-shadow: 0px 1px 2px rgba(60, 64, 67, 0.3), 0px 1px 3px 1px rgba(60, 64, 67, 0.15);\n",
              "      fill: #174EA6;\n",
              "    }\n",
              "\n",
              "    [theme=dark] .colab-df-convert {\n",
              "      background-color: #3B4455;\n",
              "      fill: #D2E3FC;\n",
              "    }\n",
              "\n",
              "    [theme=dark] .colab-df-convert:hover {\n",
              "      background-color: #434B5C;\n",
              "      box-shadow: 0px 1px 3px 1px rgba(0, 0, 0, 0.15);\n",
              "      filter: drop-shadow(0px 1px 2px rgba(0, 0, 0, 0.3));\n",
              "      fill: #FFFFFF;\n",
              "    }\n",
              "  </style>\n",
              "\n",
              "      <script>\n",
              "        const buttonEl =\n",
              "          document.querySelector('#df-0ec18179-36c6-4115-b501-8ebb5b3f653d button.colab-df-convert');\n",
              "        buttonEl.style.display =\n",
              "          google.colab.kernel.accessAllowed ? 'block' : 'none';\n",
              "\n",
              "        async function convertToInteractive(key) {\n",
              "          const element = document.querySelector('#df-0ec18179-36c6-4115-b501-8ebb5b3f653d');\n",
              "          const dataTable =\n",
              "            await google.colab.kernel.invokeFunction('convertToInteractive',\n",
              "                                                     [key], {});\n",
              "          if (!dataTable) return;\n",
              "\n",
              "          const docLinkHtml = 'Like what you see? Visit the ' +\n",
              "            '<a target=\"_blank\" href=https://colab.research.google.com/notebooks/data_table.ipynb>data table notebook</a>'\n",
              "            + ' to learn more about interactive tables.';\n",
              "          element.innerHTML = '';\n",
              "          dataTable['output_type'] = 'display_data';\n",
              "          await google.colab.output.renderOutput(dataTable, element);\n",
              "          const docLink = document.createElement('div');\n",
              "          docLink.innerHTML = docLinkHtml;\n",
              "          element.appendChild(docLink);\n",
              "        }\n",
              "      </script>\n",
              "    </div>\n",
              "  </div>\n",
              "  "
            ],
            "text/plain": [
              "                                                   Review  Sentiment\n",
              "0        If your into space this is the Calendar for you.          1\n",
              "1                                       Awesome pictures!          1\n",
              "2       Great wall art and information for space explo...          1\n",
              "3       As always, it is a quality calendar full of ve...          1\n",
              "4       This is a fantastic calendar. This is my third...          1\n",
              "...                                                   ...        ...\n",
              "499995  I got this in the mail the other day.  Its sup...          0\n",
              "499996  It's adorable.  Not he best quality but for $4...          1\n",
              "499997  I got it for my besties! :D Even though the ba...          1\n",
              "499998  I love this iPhone case soooo much, super cute...          1\n",
              "499999  That is a fake ,and have so much mark in the c...          0\n",
              "\n",
              "[499901 rows x 2 columns]"
            ]
          },
          "metadata": {},
          "execution_count": 21
        }
      ]
    },
    {
      "cell_type": "code",
      "source": [
        "sentiment = df_1['Sentiment'].value_counts()\n",
        "sentiment"
      ],
      "metadata": {
        "colab": {
          "base_uri": "https://localhost:8080/"
        },
        "id": "Vt25uTLa8TlQ",
        "outputId": "f4ec4f13-5dc3-456b-dcbc-af45c6374b8c"
      },
      "execution_count": 22,
      "outputs": [
        {
          "output_type": "execute_result",
          "data": {
            "text/plain": [
              "1    382222\n",
              "0    117679\n",
              "Name: Sentiment, dtype: int64"
            ]
          },
          "metadata": {},
          "execution_count": 22
        }
      ]
    },
    {
      "cell_type": "code",
      "source": [
        "##Distribution of sentiment\n",
        "plt.figure(figsize = ( 10,8))\n",
        "sns.countplot(data = df_1, x = 'Sentiment')\n",
        "plt.show()"
      ],
      "metadata": {
        "colab": {
          "base_uri": "https://localhost:8080/",
          "height": 499
        },
        "id": "16do8YN_8cMf",
        "outputId": "58aa1960-8881-4cb7-b7cc-9f1bcd743a31"
      },
      "execution_count": 23,
      "outputs": [
        {
          "output_type": "display_data",
          "data": {
            "image/png": "[encoded data removed]",
            "text/plain": [
              "<Figure size 720x576 with 1 Axes>"
            ]
          },
          "metadata": {
            "needs_background": "light"
          }
        }
      ]
    },
    {
      "cell_type": "code",
      "source": [
        "import re\n",
        "def clean_text(Review):\n",
        "   \n",
        "    Review = str(Review).lower() # convert to lowercase\n",
        "    Review = re.sub('\\[.*?\\]', '', Review) \n",
        "    Review = re.sub('https?://\\S+|www\\.\\S+', '', Review) # Remove URls\n",
        "    Review = re.sub('<.*?>+', '', Review)\n",
        "    Review = re.sub(r'[^a-z0-9\\s]', '', Review) # Remove punctuation\n",
        "    Review = re.sub('\\n', '', Review)\n",
        "    Review = re.sub('\\w*\\d\\w*', '', Review)\n",
        "    return Review"
      ],
      "metadata": {
        "id": "kuSeCX-n8l2d"
      },
      "execution_count": 24,
      "outputs": []
    },
    {
      "cell_type": "code",
      "source": [
        "df_1['Review'] = df_1['Review'].apply(clean_text)"
      ],
      "metadata": {
        "id": "GKYrNbdj8qUp"
      },
      "execution_count": 25,
      "outputs": []
    },
    {
      "cell_type": "code",
      "source": [
        "df_1"
      ],
      "metadata": {
        "colab": {
          "base_uri": "https://localhost:8080/",
          "height": 423
        },
        "id": "XFJgarAj8vrh",
        "outputId": "5d7281ab-97ff-43dd-bab5-cb881d723733"
      },
      "execution_count": 26,
      "outputs": [
        {
          "output_type": "execute_result",
          "data": {
            "text/html": [
              "\n",
              "  <div id=\"df-36143dfd-f793-4f43-9b46-e9d4b2e320cd\">\n",
              "    <div class=\"colab-df-container\">\n",
              "      <div>\n",
              "<style scoped>\n",
              "    .dataframe tbody tr th:only-of-type {\n",
              "        vertical-align: middle;\n",
              "    }\n",
              "\n",
              "    .dataframe tbody tr th {\n",
              "        vertical-align: top;\n",
              "    }\n",
              "\n",
              "    .dataframe thead th {\n",
              "        text-align: right;\n",
              "    }\n",
              "</style>\n",
              "<table border=\"1\" class=\"dataframe\">\n",
              "  <thead>\n",
              "    <tr style=\"text-align: right;\">\n",
              "      <th></th>\n",
              "      <th>Review</th>\n",
              "      <th>Sentiment</th>\n",
              "    </tr>\n",
              "  </thead>\n",
              "  <tbody>\n",
              "    <tr>\n",
              "      <th>0</th>\n",
              "      <td>if your into space this is the calendar for you</td>\n",
              "      <td>1</td>\n",
              "    </tr>\n",
              "    <tr>\n",
              "      <th>1</th>\n",
              "      <td>awesome pictures</td>\n",
              "      <td>1</td>\n",
              "    </tr>\n",
              "    <tr>\n",
              "      <th>2</th>\n",
              "      <td>great wall art and information for space explo...</td>\n",
              "      <td>1</td>\n",
              "    </tr>\n",
              "    <tr>\n",
              "      <th>3</th>\n",
              "      <td>as always it is a quality calendar full of ver...</td>\n",
              "      <td>1</td>\n",
              "    </tr>\n",
              "    <tr>\n",
              "      <th>4</th>\n",
              "      <td>this is a fantastic calendar this is my third ...</td>\n",
              "      <td>1</td>\n",
              "    </tr>\n",
              "    <tr>\n",
              "      <th>...</th>\n",
              "      <td>...</td>\n",
              "      <td>...</td>\n",
              "    </tr>\n",
              "    <tr>\n",
              "      <th>499995</th>\n",
              "      <td>i got this in the mail the other day  its supe...</td>\n",
              "      <td>0</td>\n",
              "    </tr>\n",
              "    <tr>\n",
              "      <th>499996</th>\n",
              "      <td>its adorable  not he best quality but for  who...</td>\n",
              "      <td>1</td>\n",
              "    </tr>\n",
              "    <tr>\n",
              "      <th>499997</th>\n",
              "      <td>i got it for my besties d even though the back...</td>\n",
              "      <td>1</td>\n",
              "    </tr>\n",
              "    <tr>\n",
              "      <th>499998</th>\n",
              "      <td>i love this iphone case soooo much super cute ...</td>\n",
              "      <td>1</td>\n",
              "    </tr>\n",
              "    <tr>\n",
              "      <th>499999</th>\n",
              "      <td>that is a fake and have so much mark in the ca...</td>\n",
              "      <td>0</td>\n",
              "    </tr>\n",
              "  </tbody>\n",
              "</table>\n",
              "<p>499901 rows × 2 columns</p>\n",
              "</div>\n",
              "      <button class=\"colab-df-convert\" onclick=\"convertToInteractive('df-36143dfd-f793-4f43-9b46-e9d4b2e320cd')\"\n",
              "              title=\"Convert this dataframe to an interactive table.\"\n",
              "              style=\"display:none;\">\n",
              "        \n",
              "  <svg xmlns=\"http://www.w3.org/2000/svg\" height=\"24px\"viewBox=\"0 0 24 24\"\n",
              "       width=\"24px\">\n",
              "    <path d=\"M0 0h24v24H0V0z\" fill=\"none\"/>\n",
              "    <path d=\"M18.56 5.44l.94 2.06.94-2.06 2.06-.94-2.06-.94-.94-2.06-.94 2.06-2.06.94zm-11 1L8.5 8.5l.94-2.06 2.06-.94-2.06-.94L8.5 2.5l-.94 2.06-2.06.94zm10 10l.94 2.06.94-2.06 2.06-.94-2.06-.94-.94-2.06-.94 2.06-2.06.94z\"/><path d=\"M17.41 7.96l-1.37-1.37c-.4-.4-.92-.59-1.43-.59-.52 0-1.04.2-1.43.59L10.3 9.45l-7.72 7.72c-.78.78-.78 2.05 0 2.83L4 21.41c.39.39.9.59 1.41.59.51 0 1.02-.2 1.41-.59l7.78-7.78 2.81-2.81c.8-.78.8-2.07 0-2.86zM5.41 20L4 18.59l7.72-7.72 1.47 1.35L5.41 20z\"/>\n",
              "  </svg>\n",
              "      </button>\n",
              "      \n",
              "  <style>\n",
              "    .colab-df-container {\n",
              "      display:flex;\n",
              "      flex-wrap:wrap;\n",
              "      gap: 12px;\n",
              "    }\n",
              "\n",
              "    .colab-df-convert {\n",
              "      background-color: #E8F0FE;\n",
              "      border: none;\n",
              "      border-radius: 50%;\n",
              "      cursor: pointer;\n",
              "      display: none;\n",
              "      fill: #1967D2;\n",
              "      height: 32px;\n",
              "      padding: 0 0 0 0;\n",
              "      width: 32px;\n",
              "    }\n",
              "\n",
              "    .colab-df-convert:hover {\n",
              "      background-color: #E2EBFA;\n",
              "      box-shadow: 0px 1px 2px rgba(60, 64, 67, 0.3), 0px 1px 3px 1px rgba(60, 64, 67, 0.15);\n",
              "      fill: #174EA6;\n",
              "    }\n",
              "\n",
              "    [theme=dark] .colab-df-convert {\n",
              "      background-color: #3B4455;\n",
              "      fill: #D2E3FC;\n",
              "    }\n",
              "\n",
              "    [theme=dark] .colab-df-convert:hover {\n",
              "      background-color: #434B5C;\n",
              "      box-shadow: 0px 1px 3px 1px rgba(0, 0, 0, 0.15);\n",
              "      filter: drop-shadow(0px 1px 2px rgba(0, 0, 0, 0.3));\n",
              "      fill: #FFFFFF;\n",
              "    }\n",
              "  </style>\n",
              "\n",
              "      <script>\n",
              "        const buttonEl =\n",
              "          document.querySelector('#df-36143dfd-f793-4f43-9b46-e9d4b2e320cd button.colab-df-convert');\n",
              "        buttonEl.style.display =\n",
              "          google.colab.kernel.accessAllowed ? 'block' : 'none';\n",
              "\n",
              "        async function convertToInteractive(key) {\n",
              "          const element = document.querySelector('#df-36143dfd-f793-4f43-9b46-e9d4b2e320cd');\n",
              "          const dataTable =\n",
              "            await google.colab.kernel.invokeFunction('convertToInteractive',\n",
              "                                                     [key], {});\n",
              "          if (!dataTable) return;\n",
              "\n",
              "          const docLinkHtml = 'Like what you see? Visit the ' +\n",
              "            '<a target=\"_blank\" href=https://colab.research.google.com/notebooks/data_table.ipynb>data table notebook</a>'\n",
              "            + ' to learn more about interactive tables.';\n",
              "          element.innerHTML = '';\n",
              "          dataTable['output_type'] = 'display_data';\n",
              "          await google.colab.output.renderOutput(dataTable, element);\n",
              "          const docLink = document.createElement('div');\n",
              "          docLink.innerHTML = docLinkHtml;\n",
              "          element.appendChild(docLink);\n",
              "        }\n",
              "      </script>\n",
              "    </div>\n",
              "  </div>\n",
              "  "
            ],
            "text/plain": [
              "                                                   Review  Sentiment\n",
              "0         if your into space this is the calendar for you          1\n",
              "1                                        awesome pictures          1\n",
              "2       great wall art and information for space explo...          1\n",
              "3       as always it is a quality calendar full of ver...          1\n",
              "4       this is a fantastic calendar this is my third ...          1\n",
              "...                                                   ...        ...\n",
              "499995  i got this in the mail the other day  its supe...          0\n",
              "499996  its adorable  not he best quality but for  who...          1\n",
              "499997  i got it for my besties d even though the back...          1\n",
              "499998  i love this iphone case soooo much super cute ...          1\n",
              "499999  that is a fake and have so much mark in the ca...          0\n",
              "\n",
              "[499901 rows x 2 columns]"
            ]
          },
          "metadata": {},
          "execution_count": 26
        }
      ]
    },
    {
      "cell_type": "code",
      "source": [
        "##Importing modules for model training\n",
        "import nltk\n",
        "from wordcloud import WordCloud\n",
        "from sklearn.metrics import accuracy_score\n",
        "from sklearn.linear_model import LogisticRegression\n",
        "from nltk import word_tokenize\n",
        "from nltk.stem.porter import PorterStemmer\n",
        "import re\n",
        "from sklearn.feature_extraction.text import TfidfVectorizer ,ENGLISH_STOP_WORDS\n",
        "import matplotlib.pyplot as plt\n",
        "from sklearn.model_selection import train_test_split"
      ],
      "metadata": {
        "id": "G9Jynhv59Oix"
      },
      "execution_count": 27,
      "outputs": []
    },
    {
      "cell_type": "code",
      "source": [
        "Y = df_1['Sentiment']"
      ],
      "metadata": {
        "id": "5ovBxInU9X7j"
      },
      "execution_count": 28,
      "outputs": []
    },
    {
      "cell_type": "code",
      "source": [
        "#make word vector and remove stop words\n",
        "vect = TfidfVectorizer(stop_words=ENGLISH_STOP_WORDS, ngram_range=(1, 2), max_features=200, token_pattern=r'\\b[^\\d\\W][^\\d\\W]+\\b').fit(df_1.Review)\n",
        "X = vect.transform(df_1.Review)\n",
        "print(X)"
      ],
      "metadata": {
        "colab": {
          "base_uri": "https://localhost:8080/"
        },
        "id": "7SCJRzgACsPx",
        "outputId": "97d60f05-7118-4aa2-85fe-f82db5aac794"
      },
      "execution_count": 29,
      "outputs": [
        {
          "output_type": "stream",
          "name": "stdout",
          "text": [
            "  (2, 121)\t0.8683120478056734\n",
            "  (2, 74)\t0.4960183339711527\n",
            "  (3, 198)\t0.5545665857111514\n",
            "  (3, 142)\t0.4072436349134639\n",
            "  (3, 114)\t0.43101351666770676\n",
            "  (3, 103)\t0.4173923991770014\n",
            "  (3, 20)\t0.40819046705447304\n",
            "  (4, 198)\t1.0\n",
            "  (5, 198)\t0.8831719476183381\n",
            "  (5, 74)\t0.46904936940585634\n",
            "  (6, 198)\t0.5700255802688496\n",
            "  (6, 107)\t0.5757266122082049\n",
            "  (6, 100)\t0.5019552913049773\n",
            "  (6, 74)\t0.3027384867593813\n",
            "  (7, 198)\t1.0\n",
            "  (8, 107)\t0.8850927334903523\n",
            "  (8, 74)\t0.46541471090047865\n",
            "  (10, 103)\t0.6634637130623914\n",
            "  (10, 9)\t0.7482084612255229\n",
            "  (11, 11)\t1.0\n",
            "  (12, 102)\t1.0\n",
            "  (13, 115)\t1.0\n",
            "  (14, 115)\t0.7726653923051\n",
            "  (14, 114)\t0.3799823887484464\n",
            "  (14, 16)\t0.50852883475279\n",
            "  :\t:\n",
            "  (499897, 143)\t0.48016101802175937\n",
            "  (499897, 142)\t0.345616516087911\n",
            "  (499897, 83)\t0.35693365331714133\n",
            "  (499897, 75)\t0.421954147102572\n",
            "  (499897, 9)\t0.39947550954127165\n",
            "  (499898, 84)\t0.5288667390378884\n",
            "  (499898, 76)\t0.639315306240914\n",
            "  (499898, 73)\t0.5581898525999164\n",
            "  (499899, 161)\t0.28009871342620246\n",
            "  (499899, 130)\t0.2657842558725449\n",
            "  (499899, 103)\t0.2081861239164443\n",
            "  (499899, 101)\t0.4720004939696689\n",
            "  (499899, 95)\t0.16439904344036935\n",
            "  (499899, 84)\t0.19426242448460873\n",
            "  (499899, 76)\t0.23483220295988902\n",
            "  (499899, 75)\t0.24798894438111688\n",
            "  (499899, 71)\t0.25936630523088167\n",
            "  (499899, 64)\t0.26923653846734175\n",
            "  (499899, 28)\t0.4713355568415096\n",
            "  (499899, 20)\t0.2035964031047843\n",
            "  (499900, 116)\t0.5301047109173009\n",
            "  (499900, 99)\t0.5139831059927278\n",
            "  (499900, 83)\t0.42627959009840405\n",
            "  (499900, 28)\t0.3192632503989767\n",
            "  (499900, 20)\t0.41372339821137755\n"
          ]
        }
      ]
    },
    {
      "cell_type": "code",
      "source": [
        "reviews_transformed = pd.DataFrame(X.toarray(), columns=vect.get_feature_names())\n",
        "print('Top 5 rows of the DataFrame: \\n', reviews_transformed.head())"
      ],
      "metadata": {
        "colab": {
          "base_uri": "https://localhost:8080/"
        },
        "id": "p90GpPOFAEwT",
        "outputId": "f746a042-8de0-4457-c479-6cb7fa935045"
      },
      "execution_count": 30,
      "outputs": [
        {
          "output_type": "stream",
          "name": "stdout",
          "text": [
            "Top 5 rows of the DataFrame: \n",
            "    able  actually  amazon  arrived  ...  works great  worth      year  years\n",
            "0   0.0       0.0     0.0      0.0  ...          0.0    0.0  0.000000    0.0\n",
            "1   0.0       0.0     0.0      0.0  ...          0.0    0.0  0.000000    0.0\n",
            "2   0.0       0.0     0.0      0.0  ...          0.0    0.0  0.000000    0.0\n",
            "3   0.0       0.0     0.0      0.0  ...          0.0    0.0  0.554567    0.0\n",
            "4   0.0       0.0     0.0      0.0  ...          0.0    0.0  1.000000    0.0\n",
            "\n",
            "[5 rows x 200 columns]\n"
          ]
        },
        {
          "output_type": "stream",
          "name": "stderr",
          "text": [
            "/usr/local/lib/python3.7/dist-packages/sklearn/utils/deprecation.py:87: FutureWarning: Function get_feature_names is deprecated; get_feature_names is deprecated in 1.0 and will be removed in 1.2. Please use get_feature_names_out instead.\n",
            "  warnings.warn(msg, category=FutureWarning)\n"
          ]
        }
      ]
    },
    {
      "cell_type": "code",
      "source": [
        "#Train-Test Split\n",
        "X_train, X_test, y_train, y_test = train_test_split(reviews_transformed, Y, test_size=0.2, random_state=456)"
      ],
      "metadata": {
        "id": "c1Dk9vC5AhPD"
      },
      "execution_count": 31,
      "outputs": []
    },
    {
      "cell_type": "code",
      "source": [
        "#train logistic Regression\n",
        "log_reg = LogisticRegression().fit(X_train, y_train)"
      ],
      "metadata": {
        "id": "bt51zD9EC1tN"
      },
      "execution_count": 32,
      "outputs": []
    },
    {
      "cell_type": "code",
      "source": [
        "#Predict values and Accuracy\n",
        "y_pred_lr = log_reg.predict(X_test)\n",
        "score=accuracy_score(y_test,y_pred_lr)\n",
        "print(f'Accuracy: {round(score*100,2)}%')"
      ],
      "metadata": {
        "colab": {
          "base_uri": "https://localhost:8080/"
        },
        "id": "6KeU9tz9C7kO",
        "outputId": "ac379731-6507-458b-c898-a44a6b561235"
      },
      "execution_count": 33,
      "outputs": [
        {
          "output_type": "stream",
          "name": "stdout",
          "text": [
            "Accuracy: 83.31%\n"
          ]
        }
      ]
    },
    {
      "cell_type": "code",
      "source": [
        "##Precision ,Recall and F1 report for logistic regression\n",
        "from sklearn.metrics import classification_report,confusion_matrix \n",
        "print(classification_report(y_test, y_pred_lr, target_names = ['Bad Reviews','Good Reviews']))"
      ],
      "metadata": {
        "colab": {
          "base_uri": "https://localhost:8080/"
        },
        "id": "36ckjIiVHXkj",
        "outputId": "8e0a66ce-4abf-40f1-b2ab-8241c17da38b"
      },
      "execution_count": 34,
      "outputs": [
        {
          "output_type": "stream",
          "name": "stdout",
          "text": [
            "              precision    recall  f1-score   support\n",
            "\n",
            " Bad Reviews       0.71      0.50      0.58     23478\n",
            "Good Reviews       0.86      0.94      0.90     76503\n",
            "\n",
            "    accuracy                           0.83     99981\n",
            "   macro avg       0.78      0.72      0.74     99981\n",
            "weighted avg       0.82      0.83      0.82     99981\n",
            "\n"
          ]
        }
      ]
    },
    {
      "cell_type": "code",
      "source": [
        "import seaborn as sns\n",
        "import matplotlib.pyplot as plt\n",
        "cm = confusion_matrix(y_test, y_pred_lr)\n",
        "plt.figure(figsize = (5,5))\n",
        "sns.heatmap(cm,cmap= \"Blues\", \n",
        "            linecolor = 'black', \n",
        "            linewidth = 1, \n",
        "            annot = True, \n",
        "            fmt='', \n",
        "            xticklabels = ['Bad Reviews','Good Reviews'], \n",
        "            yticklabels = ['Bad Reviews','Good Reviews'])\n",
        "plt.xlabel(\"Predicted\")\n",
        "plt.ylabel(\"Actual\")\n",
        "plt.title(\"Confusion matrix for Logistic Regression\")"
      ],
      "metadata": {
        "colab": {
          "base_uri": "https://localhost:8080/",
          "height": 367
        },
        "id": "KJtOdvl3IYs4",
        "outputId": "9670738b-08cd-47e3-b795-58bfffe73d30"
      },
      "execution_count": 35,
      "outputs": [
        {
          "output_type": "execute_result",
          "data": {
            "text/plain": [
              "Text(0.5, 1.0, 'Confusion matrix for Logistic Regression')"
            ]
          },
          "metadata": {},
          "execution_count": 35
        },
        {
          "output_type": "display_data",
          "data": {
            "image/png": "[encoded data removed]",
            "text/plain": [
              "<Figure size 360x360 with 2 Axes>"
            ]
          },
          "metadata": {
            "needs_background": "light"
          }
        }
      ]
    },
    {
      "cell_type": "code",
      "source": [
        "###################################"
      ],
      "metadata": {
        "id": "byA7bN33IIRx"
      },
      "execution_count": 36,
      "outputs": []
    },
    {
      "cell_type": "code",
      "source": [
        "# Rigde with TF-IDF\n",
        "from sklearn import linear_model\n",
        "import sklearn\n",
        "import numpy as np\n",
        "alpha_ridge = [500.0, 1500.0, 2500.0, 3000.0]\n",
        "for a in alpha_ridge:\n",
        "    ridge = linear_model.RidgeClassifier(a)\n",
        "    scores_ridge = sklearn.model_selection.cross_val_score(ridge, X_train, y_train, cv=5, scoring='f1')\n",
        "    print(\"alpha: \",a)\n",
        "    print(scores_ridge)\n",
        "    print(np.mean(scores_ridge))\n",
        "    print('\\n')"
      ],
      "metadata": {
        "colab": {
          "base_uri": "https://localhost:8080/"
        },
        "id": "AGORZJsTtAJt",
        "outputId": "20a1717e-dbc4-41dc-f74e-0d325065b850"
      },
      "execution_count": 37,
      "outputs": [
        {
          "output_type": "stream",
          "name": "stdout",
          "text": [
            "alpha:  500.0\n",
            "[0.89048506 0.89089236 0.8904563  0.890404   0.8899997 ]\n",
            "0.8904474836814134\n",
            "\n",
            "\n",
            "alpha:  1500.0\n",
            "[0.88230751 0.88243563 0.88265332 0.88177476 0.88251406]\n",
            "0.8823370573692199\n",
            "\n",
            "\n",
            "alpha:  2500.0\n",
            "[0.87546953 0.87602973 0.8761457  0.87533648 0.87552693]\n",
            "0.8757016736403942\n",
            "\n",
            "\n",
            "alpha:  3000.0\n",
            "[0.87286614 0.87317276 0.87342768 0.87305798 0.87309194]\n",
            "0.8731233007559037\n",
            "\n",
            "\n"
          ]
        }
      ]
    },
    {
      "cell_type": "code",
      "source": [
        "from sklearn.metrics import accuracy_score\n",
        "ridge = linear_model.RidgeClassifier(1.4)\n",
        "ridge.fit(X_train, y_train)\n",
        "y_pred_ridge = ridge.predict(X_test)\n",
        "\n",
        "accuracy_score(y_test, y_pred_ridge)"
      ],
      "metadata": {
        "colab": {
          "base_uri": "https://localhost:8080/"
        },
        "id": "LIeQx9ZKucIT",
        "outputId": "d39fff2d-09a2-493a-e824-777423c624f5"
      },
      "execution_count": 38,
      "outputs": [
        {
          "output_type": "execute_result",
          "data": {
            "text/plain": [
              "0.8262669907282384"
            ]
          },
          "metadata": {},
          "execution_count": 38
        }
      ]
    },
    {
      "cell_type": "code",
      "source": [
        "##Precision ,Recall and F1 report for Ridge Classifier\n",
        "from sklearn.metrics import classification_report,confusion_matrix \n",
        "print(classification_report(y_test, y_pred_ridge, target_names = ['Bad Reviews','Good Reviews']))"
      ],
      "metadata": {
        "colab": {
          "base_uri": "https://localhost:8080/"
        },
        "id": "unZgg_T-H0cZ",
        "outputId": "13a5ebba-ccfa-404b-8744-2512b4cbd3cc"
      },
      "execution_count": 39,
      "outputs": [
        {
          "output_type": "stream",
          "name": "stdout",
          "text": [
            "              precision    recall  f1-score   support\n",
            "\n",
            " Bad Reviews       0.74      0.40      0.52     23478\n",
            "Good Reviews       0.84      0.96      0.89     76503\n",
            "\n",
            "    accuracy                           0.83     99981\n",
            "   macro avg       0.79      0.68      0.71     99981\n",
            "weighted avg       0.82      0.83      0.81     99981\n",
            "\n"
          ]
        }
      ]
    },
    {
      "cell_type": "code",
      "source": [
        "import seaborn as sns\n",
        "import matplotlib.pyplot as plt\n",
        "cm = confusion_matrix(y_test, y_pred_ridge)\n",
        "plt.figure(figsize = (5,5))\n",
        "sns.heatmap(cm,cmap= \"Blues\", \n",
        "            linecolor = 'black', \n",
        "            linewidth = 1, \n",
        "            annot = True, \n",
        "            fmt='', \n",
        "            xticklabels = ['Bad Reviews','Good Reviews'], \n",
        "            yticklabels = ['Bad Reviews','Good Reviews'])\n",
        "plt.xlabel(\"Predicted\")\n",
        "plt.ylabel(\"Actual\")\n",
        "plt.title(\"Confusion matrix for Ridge Classifier\")"
      ],
      "metadata": {
        "colab": {
          "base_uri": "https://localhost:8080/",
          "height": 367
        },
        "id": "QE_xr0KhIo_z",
        "outputId": "1e86a022-3a2d-4ef2-c4a9-531e5b5fcf65"
      },
      "execution_count": 40,
      "outputs": [
        {
          "output_type": "execute_result",
          "data": {
            "text/plain": [
              "Text(0.5, 1.0, 'Confusion matrix for Ridge Classifier')"
            ]
          },
          "metadata": {},
          "execution_count": 40
        },
        {
          "output_type": "display_data",
          "data": {
            "image/png": "[encoded data removed]",
            "text/plain": [
              "<Figure size 360x360 with 2 Axes>"
            ]
          },
          "metadata": {
            "needs_background": "light"
          }
        }
      ]
    },
    {
      "cell_type": "code",
      "source": [
        "# MultinomialNB with TF-IDF\n",
        "from sklearn.naive_bayes import MultinomialNB\n",
        "\n",
        "alpha_nb = [175.0, 200.0, 225.0, 250.0, 300.0]\n",
        "for a in alpha_nb:\n",
        "    mnb = MultinomialNB()\n",
        "    scores_nb = sklearn.model_selection.cross_val_score(mnb, X_train, y_train, cv=5, scoring='f1')\n",
        "    print('alpha: ', a)\n",
        "    print(scores_nb)\n",
        "    print(np.mean(scores_nb))\n",
        "    print('\\n')"
      ],
      "metadata": {
        "colab": {
          "base_uri": "https://localhost:8080/"
        },
        "id": "KYICimGbtrAD",
        "outputId": "d0e504d5-613c-4134-a1df-d266aa4e23a0"
      },
      "execution_count": 41,
      "outputs": [
        {
          "output_type": "stream",
          "name": "stdout",
          "text": [
            "alpha:  175.0\n",
            "[0.87897389 0.87873071 0.87901902 0.87852426 0.87842389]\n",
            "0.8787343539984734\n",
            "\n",
            "\n",
            "alpha:  200.0\n",
            "[0.87897389 0.87873071 0.87901902 0.87852426 0.87842389]\n",
            "0.8787343539984734\n",
            "\n",
            "\n",
            "alpha:  225.0\n",
            "[0.87897389 0.87873071 0.87901902 0.87852426 0.87842389]\n",
            "0.8787343539984734\n",
            "\n",
            "\n",
            "alpha:  250.0\n",
            "[0.87897389 0.87873071 0.87901902 0.87852426 0.87842389]\n",
            "0.8787343539984734\n",
            "\n",
            "\n",
            "alpha:  300.0\n",
            "[0.87897389 0.87873071 0.87901902 0.87852426 0.87842389]\n",
            "0.8787343539984734\n",
            "\n",
            "\n"
          ]
        }
      ]
    },
    {
      "cell_type": "code",
      "source": [
        "from sklearn.metrics import accuracy_score\n",
        "\n",
        "mnb.fit(X_train, y_train)\n",
        "y_pred_nb = mnb.predict(X_test)\n",
        "\n",
        "accuracy_score(y_test, y_pred_nb)"
      ],
      "metadata": {
        "colab": {
          "base_uri": "https://localhost:8080/"
        },
        "id": "EFRVw3CZ1pin",
        "outputId": "7f686310-f788-4ad3-a727-27e4445c4270"
      },
      "execution_count": 42,
      "outputs": [
        {
          "output_type": "execute_result",
          "data": {
            "text/plain": [
              "0.7912803432652203"
            ]
          },
          "metadata": {},
          "execution_count": 42
        }
      ]
    },
    {
      "cell_type": "code",
      "source": [
        "##Precision ,Recall and F1 report for logistic regression\n",
        "from sklearn.metrics import classification_report,confusion_matrix \n",
        "print(classification_report(y_test, y_pred_nb, target_names = ['Bad Reviews','Good Reviews']))"
      ],
      "metadata": {
        "colab": {
          "base_uri": "https://localhost:8080/"
        },
        "id": "g2tEhl6uII2B",
        "outputId": "b548a241-1933-487b-ac90-6687fee85c6b"
      },
      "execution_count": 43,
      "outputs": [
        {
          "output_type": "stream",
          "name": "stdout",
          "text": [
            "              precision    recall  f1-score   support\n",
            "\n",
            " Bad Reviews       0.87      0.13      0.23     23478\n",
            "Good Reviews       0.79      0.99      0.88     76503\n",
            "\n",
            "    accuracy                           0.79     99981\n",
            "   macro avg       0.83      0.56      0.55     99981\n",
            "weighted avg       0.81      0.79      0.73     99981\n",
            "\n"
          ]
        }
      ]
    },
    {
      "cell_type": "code",
      "source": [
        "import seaborn as sns\n",
        "import matplotlib.pyplot as plt\n",
        "cm = confusion_matrix(y_test, y_pred_nb)\n",
        "plt.figure(figsize = (5,5))\n",
        "sns.heatmap(cm,cmap= \"Blues\", \n",
        "            linecolor = 'black', \n",
        "            linewidth = 1, \n",
        "            annot = True, \n",
        "            fmt='', \n",
        "            xticklabels = ['Bad Reviews','Good Reviews'], \n",
        "            yticklabels = ['Bad Reviews','Good Reviews'])\n",
        "plt.xlabel(\"Predicted\")\n",
        "plt.ylabel(\"Actual\")\n",
        "plt.title(\"Confusion matrix for Multinomial Naive Bayes\")"
      ],
      "metadata": {
        "colab": {
          "base_uri": "https://localhost:8080/",
          "height": 367
        },
        "id": "LPmOesX0JB0A",
        "outputId": "dae96cac-7d89-471d-bda8-20d6b0c9b20c"
      },
      "execution_count": 44,
      "outputs": [
        {
          "output_type": "execute_result",
          "data": {
            "text/plain": [
              "Text(0.5, 1.0, 'Confusion matrix for Multinomial Naive Bayes')"
            ]
          },
          "metadata": {},
          "execution_count": 44
        },
        {
          "output_type": "display_data",
          "data": {
            "image/png": "[encoded data removed]",
            "text/plain": [
              "<Figure size 360x360 with 2 Axes>"
            ]
          },
          "metadata": {
            "needs_background": "light"
          }
        }
      ]
    },
    {
      "cell_type": "code",
      "source": [
        "#######################################3"
      ],
      "metadata": {
        "id": "bIQK0cKzMdOG"
      },
      "execution_count": null,
      "outputs": []
    },
    {
      "cell_type": "code",
      "source": [
        "##Saving the model"
      ],
      "metadata": {
        "id": "6p9PT3vwLV0U"
      },
      "execution_count": null,
      "outputs": []
    },
    {
      "cell_type": "code",
      "source": [
        "import pickle\n",
        "# save the model to disk\n",
        "filename = 'finalized_model.sav'\n",
        "pickle.dump(log_reg, open(filename, 'wb'))"
      ],
      "metadata": {
        "id": "KnK-Bz_Kr4dR"
      },
      "execution_count": 49,
      "outputs": []
    },
    {
      "cell_type": "code",
      "source": [
        "# load the model from disk\n",
        "loaded_model = pickle.load(open(filename, 'rb'))\n",
        "result = loaded_model.score(X_test,y_test)\n",
        "print(result)"
      ],
      "metadata": {
        "colab": {
          "base_uri": "https://localhost:8080/"
        },
        "id": "6lRTugrMMgPL",
        "outputId": "1b26c141-7067-4ca5-f619-0beecf794742"
      },
      "execution_count": 54,
      "outputs": [
        {
          "output_type": "stream",
          "name": "stdout",
          "text": [
            "0.833078284874126\n"
          ]
        }
      ]
    },
    {
      "cell_type": "code",
      "source": [
        ""
      ],
      "metadata": {
        "id": "kBvAYm-xNPuW"
      },
      "execution_count": null,
      "outputs": []
    }
  ]
}